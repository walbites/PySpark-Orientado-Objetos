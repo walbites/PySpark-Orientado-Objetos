{
 "cells": [
  {
   "cell_type": "code",
   "execution_count": 1,
   "id": "d8638495",
   "metadata": {},
   "outputs": [],
   "source": [
    "######################################################################################################################\n",
    "# VERSION  \tDESARROLLADOR             FECHA        DESCRIPCION\n",
    "# -------------------------------------------------------------\n",
    "#  1        Walter Albites Azarte     02/02/2023   Challenge Coronavirus report Notebook utilizando clases\n",
    "#                                                  utilitarias y de negocio en pyspark.\n",
    "#                                                  Objetivo Casos a nivel Mundial de Coronavirus reportados por Mes\n",
    "#\n",
    "# Dataset : https://www.kaggle.com/datasets/imdevskp/corona-virus-report\n",
    "######################################################################################################################"
   ]
  },
  {
   "cell_type": "code",
   "execution_count": 2,
   "id": "2a658543",
   "metadata": {},
   "outputs": [
    {
     "data": {
      "text/plain": [
       "'C:\\\\spark-3.1.2-bin-hadoop2.7'"
      ]
     },
     "execution_count": 2,
     "metadata": {},
     "output_type": "execute_result"
    }
   ],
   "source": [
    "import findspark\n",
    "findspark.init()\n",
    "findspark.find()"
   ]
  },
  {
   "cell_type": "code",
   "execution_count": 3,
   "id": "dcc3194e",
   "metadata": {},
   "outputs": [],
   "source": [
    "import pyspark\n",
    "from pyspark import SparkContext, SparkConf\n",
    "from pyspark.sql import SparkSession\n",
    "conf= pyspark.SparkConf().setAppName('SparkApp').setMaster('local')\n",
    "sc = pyspark.SparkContext(conf=conf)\n",
    "spark=SparkSession(sc)"
   ]
  },
  {
   "cell_type": "code",
   "execution_count": 4,
   "id": "15291757",
   "metadata": {},
   "outputs": [],
   "source": [
    "from pyspark.sql.types import *\n",
    "from pyspark.sql.functions import *"
   ]
  },
  {
   "cell_type": "code",
   "execution_count": 5,
   "id": "2c0987ad",
   "metadata": {},
   "outputs": [],
   "source": [
    "from utilitario import Utils\n",
    "from logica_negocio import BusinessLogic"
   ]
  },
  {
   "cell_type": "code",
   "execution_count": 6,
   "id": "0e7a9c6f",
   "metadata": {},
   "outputs": [],
   "source": [
    "utils = Utils()"
   ]
  },
  {
   "cell_type": "code",
   "execution_count": 7,
   "id": "5d2c058f",
   "metadata": {},
   "outputs": [],
   "source": [
    "businesslogic=BusinessLogic()"
   ]
  },
  {
   "cell_type": "code",
   "execution_count": 8,
   "id": "178c8d07",
   "metadata": {},
   "outputs": [],
   "source": [
    "path_raw = 'C:/Users/walbi/Documents/challenge-covid/clases/raw/'"
   ]
  },
  {
   "cell_type": "code",
   "execution_count": 9,
   "id": "1ed024f2",
   "metadata": {},
   "outputs": [],
   "source": [
    "path_udv = 'C:/Users/walbi/Documents/challenge-covid/clases/udv/'"
   ]
  },
  {
   "cell_type": "code",
   "execution_count": 10,
   "id": "d206b1bf",
   "metadata": {},
   "outputs": [],
   "source": [
    "#Leer csv con la sesion de spark\n",
    "#df_covid_19=utils.read_csv(spark,path_name)\n",
    "#df_covid_19.show(5,False)"
   ]
  },
  {
   "cell_type": "code",
   "execution_count": 11,
   "id": "60b08d99",
   "metadata": {},
   "outputs": [],
   "source": [
    "############################################ worldometer"
   ]
  },
  {
   "cell_type": "code",
   "execution_count": 12,
   "id": "b64a87c1",
   "metadata": {},
   "outputs": [],
   "source": [
    "titles=['Country/Region',\n",
    " 'Continent',\n",
    " 'Population',\n",
    " 'TotalCases',\n",
    " 'NewCases',\n",
    " 'TotalDeaths',\n",
    " 'NewDeaths',\n",
    " 'TotalRecovered',\n",
    " 'NewRecovered',\n",
    " 'ActiveCases',\n",
    " 'Serious,Critical',\n",
    " 'Tot Cases/1M pop',\n",
    " 'Deaths/1M pop',\n",
    " 'TotalTests',\n",
    " 'Tests/1M pop',\n",
    " 'WHO Region']"
   ]
  },
  {
   "cell_type": "code",
   "execution_count": 13,
   "id": "820d5078",
   "metadata": {},
   "outputs": [
    {
     "name": "stdout",
     "output_type": "stream",
     "text": [
      "+--------------+-------------+----------+----------+--------+-----------+---------+--------------+------------+-----------+----------------+----------------+-------------+----------+------------+--------------+\n",
      "|Country/Region|Continent    |Population|TotalCases|NewCases|TotalDeaths|NewDeaths|TotalRecovered|NewRecovered|ActiveCases|Serious,Critical|Tot Cases/1M pop|Deaths/1M pop|TotalTests|Tests/1M pop|WHO Region    |\n",
      "+--------------+-------------+----------+----------+--------+-----------+---------+--------------+------------+-----------+----------------+----------------+-------------+----------+------------+--------------+\n",
      "|USA           |North America|331198130 |5032179   |        |162804     |         |2576668       |            |2292707    |18296           |15194           |492          |63139605  |190640      |Americas      |\n",
      "|Brazil        |South America|212710692 |2917562   |        |98644      |         |2047660       |            |771258     |8318            |13716           |464          |13206188  |62085       |Americas      |\n",
      "|India         |Asia         |1381344997|2025409   |        |41638      |         |1377384       |            |606387     |8944            |1466            |30           |22149351  |16035       |South-EastAsia|\n",
      "|Russia        |Europe       |145940924 |871894    |        |14606      |         |676357        |            |180931     |2300            |5974            |100          |29716907  |203623      |Europe        |\n",
      "|South Africa  |Africa       |59381566  |538184    |        |9604       |         |387316        |            |141264     |539             |9063            |162          |3149807   |53044       |Africa        |\n",
      "+--------------+-------------+----------+----------+--------+-----------+---------+--------------+------------+-----------+----------------+----------------+-------------+----------+------------+--------------+\n",
      "only showing top 5 rows\n",
      "\n"
     ]
    }
   ],
   "source": [
    "#Hay que hacer orientado a objetos (Clases en notebooks).\n",
    "#Leer csv rdd de la clase Utils\n",
    "df_covid_19_rdd=utils.read_csv_rdd(sc,path_raw+'worldometer_data.csv',titles)\n",
    "df_covid_19_rdd.show(5,False)"
   ]
  },
  {
   "cell_type": "code",
   "execution_count": 14,
   "id": "a3f28eb9",
   "metadata": {},
   "outputs": [
    {
     "name": "stdout",
     "output_type": "stream",
     "text": [
      "root\n",
      " |-- Country/Region: string (nullable = true)\n",
      " |-- Continent: string (nullable = true)\n",
      " |-- Population: string (nullable = true)\n",
      " |-- TotalCases: string (nullable = true)\n",
      " |-- NewCases: string (nullable = true)\n",
      " |-- TotalDeaths: string (nullable = true)\n",
      " |-- NewDeaths: string (nullable = true)\n",
      " |-- TotalRecovered: string (nullable = true)\n",
      " |-- NewRecovered: string (nullable = true)\n",
      " |-- ActiveCases: string (nullable = true)\n",
      " |-- Serious,Critical: string (nullable = true)\n",
      " |-- Tot Cases/1M pop: string (nullable = true)\n",
      " |-- Deaths/1M pop: string (nullable = true)\n",
      " |-- TotalTests: string (nullable = true)\n",
      " |-- Tests/1M pop: string (nullable = true)\n",
      " |-- WHO Region: string (nullable = true)\n",
      "\n"
     ]
    }
   ],
   "source": [
    "df_covid_19_rdd.printSchema()"
   ]
  },
  {
   "cell_type": "code",
   "execution_count": 15,
   "id": "15c1df46",
   "metadata": {},
   "outputs": [
    {
     "name": "stdout",
     "output_type": "stream",
     "text": [
      "+-------------+-------------+----------+----------+--------+-----------+---------+--------------+------------+-----------+----------------+--------------+------------+----------+-----------+--------------+\n",
      "|CountryRegion|Continent    |Population|TotalCases|NewCases|TotalDeaths|NewDeaths|TotalRecovered|NewRecovered|ActiveCases|Serious/Critical|TotCases/1Mpop|Deaths/1Mpop|TotalTests|Tests/1Mpop|WHORegion     |\n",
      "+-------------+-------------+----------+----------+--------+-----------+---------+--------------+------------+-----------+----------------+--------------+------------+----------+-----------+--------------+\n",
      "|USA          |North America|331198130 |5032179   |null    |162804     |null     |2576668       |null        |2292707    |18296           |15194         |492         |63139605  |190640     |Americas      |\n",
      "|Brazil       |South America|212710692 |2917562   |null    |98644      |null     |2047660       |null        |771258     |8318            |13716         |464         |13206188  |62085      |Americas      |\n",
      "|India        |Asia         |1381344997|2025409   |null    |41638      |null     |1377384       |null        |606387     |8944            |1466          |30          |22149351  |16035      |South-EastAsia|\n",
      "|Russia       |Europe       |145940924 |871894    |null    |14606      |null     |676357        |null        |180931     |2300            |5974          |100         |29716907  |203623     |Europe        |\n",
      "|South Africa |Africa       |59381566  |538184    |null    |9604       |null     |387316        |null        |141264     |539             |9063          |162         |3149807   |53044      |Africa        |\n",
      "+-------------+-------------+----------+----------+--------+-----------+---------+--------------+------------+-----------+----------------+--------------+------------+----------+-----------+--------------+\n",
      "only showing top 5 rows\n",
      "\n"
     ]
    }
   ],
   "source": [
    "#Hay que tratar los tipos de datos en la ultima capa (Ej: Todo que es número, \n",
    "#debe ser número, no string).\n",
    "df_covid_19_udv=businesslogic.transformacion_tipos_datos_covid(df_covid_19_rdd)\n",
    "df_covid_19_udv.show(5,False)"
   ]
  },
  {
   "cell_type": "code",
   "execution_count": 16,
   "id": "5b684c64",
   "metadata": {},
   "outputs": [
    {
     "name": "stdout",
     "output_type": "stream",
     "text": [
      "root\n",
      " |-- CountryRegion: string (nullable = true)\n",
      " |-- Continent: string (nullable = true)\n",
      " |-- Population: integer (nullable = true)\n",
      " |-- TotalCases: integer (nullable = true)\n",
      " |-- NewCases: integer (nullable = true)\n",
      " |-- TotalDeaths: integer (nullable = true)\n",
      " |-- NewDeaths: integer (nullable = true)\n",
      " |-- TotalRecovered: integer (nullable = true)\n",
      " |-- NewRecovered: integer (nullable = true)\n",
      " |-- ActiveCases: integer (nullable = true)\n",
      " |-- Serious/Critical: integer (nullable = true)\n",
      " |-- TotCases/1Mpop: integer (nullable = true)\n",
      " |-- Deaths/1Mpop: integer (nullable = true)\n",
      " |-- TotalTests: integer (nullable = true)\n",
      " |-- Tests/1Mpop: integer (nullable = true)\n",
      " |-- WHORegion: string (nullable = true)\n",
      "\n"
     ]
    }
   ],
   "source": [
    "df_covid_19_udv.printSchema()"
   ]
  },
  {
   "cell_type": "code",
   "execution_count": 17,
   "id": "6858ffbf",
   "metadata": {},
   "outputs": [
    {
     "data": {
      "text/plain": [
       "209"
      ]
     },
     "execution_count": 17,
     "metadata": {},
     "output_type": "execute_result"
    }
   ],
   "source": [
    "df_covid_19_udv.count()"
   ]
  },
  {
   "cell_type": "code",
   "execution_count": 18,
   "id": "0889bf4b",
   "metadata": {},
   "outputs": [],
   "source": [
    "#Escribir en parquet\n",
    "utils.write_df_parquet(df_covid_19_udv,path_udv+'covid_19_udv')"
   ]
  },
  {
   "cell_type": "code",
   "execution_count": 19,
   "id": "b0665a98",
   "metadata": {},
   "outputs": [
    {
     "data": {
      "text/plain": [
       "209"
      ]
     },
     "execution_count": 19,
     "metadata": {},
     "output_type": "execute_result"
    }
   ],
   "source": [
    "#verificar parquet\n",
    "df_covid_19_udv_read=utils.read_parquet(spark,path_udv+'covid_19_udv')\n",
    "df_covid_19_udv_read.count()"
   ]
  },
  {
   "cell_type": "code",
   "execution_count": 20,
   "id": "aeacb9be",
   "metadata": {},
   "outputs": [],
   "source": [
    "############################################ full_grouped"
   ]
  },
  {
   "cell_type": "code",
   "execution_count": 21,
   "id": "970ffe8b",
   "metadata": {},
   "outputs": [],
   "source": [
    "titles_grouped=['Date',\n",
    " 'Country/Region',\n",
    " 'Confirmed',\n",
    " 'Deaths',\n",
    " 'Recovered',\n",
    " 'Active',\n",
    " 'New cases',\n",
    " 'New deaths',\n",
    " 'New recovered',\n",
    " 'WHO Region']"
   ]
  },
  {
   "cell_type": "code",
   "execution_count": 22,
   "id": "dd628d44",
   "metadata": {},
   "outputs": [
    {
     "name": "stdout",
     "output_type": "stream",
     "text": [
      "+----------+--------------+---------+------+---------+------+---------+----------+-------------+---------------------+\n",
      "|Date      |Country/Region|Confirmed|Deaths|Recovered|Active|New cases|New deaths|New recovered|WHO Region           |\n",
      "+----------+--------------+---------+------+---------+------+---------+----------+-------------+---------------------+\n",
      "|2020-01-22|Afghanistan   |0        |0     |0        |0     |0        |0         |0            |Eastern Mediterranean|\n",
      "|2020-01-22|Albania       |0        |0     |0        |0     |0        |0         |0            |Europe               |\n",
      "|2020-01-22|Algeria       |0        |0     |0        |0     |0        |0         |0            |Africa               |\n",
      "|2020-01-22|Andorra       |0        |0     |0        |0     |0        |0         |0            |Europe               |\n",
      "|2020-01-22|Angola        |0        |0     |0        |0     |0        |0         |0            |Africa               |\n",
      "+----------+--------------+---------+------+---------+------+---------+----------+-------------+---------------------+\n",
      "only showing top 5 rows\n",
      "\n"
     ]
    }
   ],
   "source": [
    "#Leer csv rdd de la clase Utils\n",
    "df_covid_19_grouped_rdd=utils.read_csv_rdd(sc,path_raw+'full_grouped.csv',titles_grouped)\n",
    "df_covid_19_grouped_rdd.show(5,False)"
   ]
  },
  {
   "cell_type": "code",
   "execution_count": 23,
   "id": "8ae18dab",
   "metadata": {},
   "outputs": [
    {
     "name": "stdout",
     "output_type": "stream",
     "text": [
      "root\n",
      " |-- Date: string (nullable = true)\n",
      " |-- Country/Region: string (nullable = true)\n",
      " |-- Confirmed: string (nullable = true)\n",
      " |-- Deaths: string (nullable = true)\n",
      " |-- Recovered: string (nullable = true)\n",
      " |-- Active: string (nullable = true)\n",
      " |-- New cases: string (nullable = true)\n",
      " |-- New deaths: string (nullable = true)\n",
      " |-- New recovered: string (nullable = true)\n",
      " |-- WHO Region: string (nullable = true)\n",
      "\n"
     ]
    }
   ],
   "source": [
    "df_covid_19_grouped_rdd.printSchema()"
   ]
  },
  {
   "cell_type": "code",
   "execution_count": 24,
   "id": "3124dbe9",
   "metadata": {},
   "outputs": [
    {
     "name": "stdout",
     "output_type": "stream",
     "text": [
      "+----------+-------------+---------+------+---------+------+--------+---------+------------+---------------------+\n",
      "|Date      |CountryRegion|Confirmed|Deaths|Recovered|Active|NewCases|NewDeaths|NewRecovered|WHORegion            |\n",
      "+----------+-------------+---------+------+---------+------+--------+---------+------------+---------------------+\n",
      "|2020-01-22|Afghanistan  |0        |0     |0        |0     |0       |0        |0           |Eastern Mediterranean|\n",
      "|2020-01-22|Albania      |0        |0     |0        |0     |0       |0        |0           |Europe               |\n",
      "|2020-01-22|Algeria      |0        |0     |0        |0     |0       |0        |0           |Africa               |\n",
      "|2020-01-22|Andorra      |0        |0     |0        |0     |0       |0        |0           |Europe               |\n",
      "|2020-01-22|Angola       |0        |0     |0        |0     |0       |0        |0           |Africa               |\n",
      "+----------+-------------+---------+------+---------+------+--------+---------+------------+---------------------+\n",
      "only showing top 5 rows\n",
      "\n"
     ]
    }
   ],
   "source": [
    "#Hay que tratar los tipos de datos en la ultima capa (Ej: Todo que es número, \n",
    "#debe ser número, no string).\n",
    "df_covid_19_grouped_udv=businesslogic.transformacion_tipos_datos_covid_grouped(df_covid_19_grouped_rdd)\n",
    "df_covid_19_grouped_udv.show(5,False)"
   ]
  },
  {
   "cell_type": "code",
   "execution_count": 25,
   "id": "5f19e59a",
   "metadata": {},
   "outputs": [
    {
     "name": "stdout",
     "output_type": "stream",
     "text": [
      "root\n",
      " |-- Date: string (nullable = true)\n",
      " |-- CountryRegion: string (nullable = true)\n",
      " |-- Confirmed: integer (nullable = true)\n",
      " |-- Deaths: integer (nullable = true)\n",
      " |-- Recovered: integer (nullable = true)\n",
      " |-- Active: integer (nullable = true)\n",
      " |-- NewCases: integer (nullable = true)\n",
      " |-- NewDeaths: integer (nullable = true)\n",
      " |-- NewRecovered: integer (nullable = true)\n",
      " |-- WHORegion: string (nullable = true)\n",
      "\n"
     ]
    }
   ],
   "source": [
    "df_covid_19_grouped_udv.printSchema()"
   ]
  },
  {
   "cell_type": "code",
   "execution_count": 26,
   "id": "aa84a7cb",
   "metadata": {},
   "outputs": [
    {
     "data": {
      "text/plain": [
       "35156"
      ]
     },
     "execution_count": 26,
     "metadata": {},
     "output_type": "execute_result"
    }
   ],
   "source": [
    "df_covid_19_grouped_udv.count()"
   ]
  },
  {
   "cell_type": "code",
   "execution_count": 27,
   "id": "f5fc3425",
   "metadata": {},
   "outputs": [],
   "source": [
    "#Escribir en parquet\n",
    "utils.write_df_parquet(df_covid_19_grouped_udv,path_udv+'covid_19_grouped_udv')"
   ]
  },
  {
   "cell_type": "code",
   "execution_count": 28,
   "id": "a13d4c3c",
   "metadata": {},
   "outputs": [
    {
     "data": {
      "text/plain": [
       "35156"
      ]
     },
     "execution_count": 28,
     "metadata": {},
     "output_type": "execute_result"
    }
   ],
   "source": [
    "#verificar parquet\n",
    "df_covid_19_grouped_udv_read=utils.read_parquet(spark,path_udv+'covid_19_grouped_udv')\n",
    "df_covid_19_grouped_udv_read.count()"
   ]
  },
  {
   "cell_type": "code",
   "execution_count": 29,
   "id": "0bf73a42",
   "metadata": {},
   "outputs": [
    {
     "name": "stdout",
     "output_type": "stream",
     "text": [
      "+-------------+-------------+----------+----------+-----------+--------------+\n",
      "|CountryRegion|Continent    |Population|TotalCases|TotalDeaths|TotalRecovered|\n",
      "+-------------+-------------+----------+----------+-----------+--------------+\n",
      "|USA          |North America|331198130 |5032179   |162804     |2576668       |\n",
      "|Brazil       |South America|212710692 |2917562   |98644      |2047660       |\n",
      "|India        |Asia         |1381344997|2025409   |41638      |1377384       |\n",
      "|Russia       |Europe       |145940924 |871894    |14606      |676357        |\n",
      "|South Africa |Africa       |59381566  |538184    |9604       |387316        |\n",
      "+-------------+-------------+----------+----------+-----------+--------------+\n",
      "only showing top 5 rows\n",
      "\n"
     ]
    }
   ],
   "source": [
    "#Tablas para join\n",
    "df_covid_19_udv_select=df_covid_19_udv_read.select('CountryRegion',\n",
    " 'Continent',\n",
    " 'Population',\n",
    " 'TotalCases',\n",
    " 'TotalDeaths',\n",
    " 'TotalRecovered')\n",
    "df_covid_19_udv_select.show(5,False)"
   ]
  },
  {
   "cell_type": "code",
   "execution_count": 30,
   "id": "73de0088",
   "metadata": {},
   "outputs": [
    {
     "name": "stdout",
     "output_type": "stream",
     "text": [
      "+----------+-------------+---------+------+---------+------+--------+---------+------------+---------------------+\n",
      "|Date      |CountryRegion|Confirmed|Deaths|Recovered|Active|NewCases|NewDeaths|NewRecovered|WHORegion            |\n",
      "+----------+-------------+---------+------+---------+------+--------+---------+------------+---------------------+\n",
      "|2020-01-22|Afghanistan  |0        |0     |0        |0     |0       |0        |0           |Eastern Mediterranean|\n",
      "|2020-01-22|Albania      |0        |0     |0        |0     |0       |0        |0           |Europe               |\n",
      "|2020-01-22|Algeria      |0        |0     |0        |0     |0       |0        |0           |Africa               |\n",
      "|2020-01-22|Andorra      |0        |0     |0        |0     |0       |0        |0           |Europe               |\n",
      "|2020-01-22|Angola       |0        |0     |0        |0     |0       |0        |0           |Africa               |\n",
      "+----------+-------------+---------+------+---------+------+--------+---------+------------+---------------------+\n",
      "only showing top 5 rows\n",
      "\n"
     ]
    }
   ],
   "source": [
    "df_covid_19_grouped_udv_read.show(5,False)"
   ]
  },
  {
   "cell_type": "code",
   "execution_count": 31,
   "id": "fd4d1152",
   "metadata": {},
   "outputs": [
    {
     "name": "stdout",
     "output_type": "stream",
     "text": [
      "+-------------+---------+----------+----------+-----------+--------------+----------+---------+------+---------+------+--------+---------+------------+---------------------+\n",
      "|CountryRegion|Continent|Population|TotalCases|TotalDeaths|TotalRecovered|Date      |Confirmed|Deaths|Recovered|Active|NewCases|NewDeaths|NewRecovered|WHORegion            |\n",
      "+-------------+---------+----------+----------+-----------+--------------+----------+---------+------+---------+------+--------+---------+------------+---------------------+\n",
      "|Afghanistan  |Asia     |39009447  |36896     |1298       |25840         |2020-01-22|0        |0     |0        |0     |0       |0        |0           |Eastern Mediterranean|\n",
      "|Albania      |Europe   |2877470   |6016      |188        |3155          |2020-01-22|0        |0     |0        |0     |0       |0        |0           |Europe               |\n",
      "|Algeria      |Africa   |43926079  |33626     |1273       |23238         |2020-01-22|0        |0     |0        |0     |0       |0        |0           |Africa               |\n",
      "|Andorra      |Europe   |77278     |944       |52         |828           |2020-01-22|0        |0     |0        |0     |0       |0        |0           |Europe               |\n",
      "|Angola       |Africa   |32956300  |1483      |64         |520           |2020-01-22|0        |0     |0        |0     |0       |0        |0           |Africa               |\n",
      "+-------------+---------+----------+----------+-----------+--------------+----------+---------+------+---------+------+--------+---------+------------+---------------------+\n",
      "only showing top 5 rows\n",
      "\n"
     ]
    }
   ],
   "source": [
    "#Join\n",
    "df_result=businesslogic.join_df(df_covid_19_udv_select,df_covid_19_grouped_udv_read,'inner')\n",
    "df_result.show(5,False)"
   ]
  },
  {
   "cell_type": "code",
   "execution_count": 32,
   "id": "1f5f74fd",
   "metadata": {},
   "outputs": [],
   "source": [
    "df_result_ordenado=df_result.select(\n",
    "'Continent',\n",
    "'CountryRegion',\n",
    " 'Date',\n",
    "date_format(to_date(\"Date\", 'yyyy-MM-dd'), 'yyyy').alias('Anio'),\n",
    "date_format(to_date(\"Date\", 'yyyy-MM-dd'), 'MM').alias('Mes'),\n",
    " 'Population',\n",
    " 'TotalCases',\n",
    " 'TotalDeaths',\n",
    " 'TotalRecovered',\n",
    " 'Confirmed',\n",
    " 'Deaths',\n",
    " 'Recovered',\n",
    " 'Active',\n",
    " 'NewCases',\n",
    " 'NewDeaths',\n",
    " 'NewRecovered'\n",
    ").orderBy('CountryRegion','Date')"
   ]
  },
  {
   "cell_type": "code",
   "execution_count": 34,
   "id": "f8781fc6",
   "metadata": {},
   "outputs": [
    {
     "name": "stdout",
     "output_type": "stream",
     "text": [
      "+---------+-------------+----------+----+---+---------+------+---------+------+--------+---------+------------+\n",
      "|Continent|CountryRegion|Population|Anio|Mes|Confirmed|Deaths|Recovered|Active|NewCases|NewDeaths|NewRecovered|\n",
      "+---------+-------------+----------+----+---+---------+------+---------+------+--------+---------+------------+\n",
      "|     Asia|  Afghanistan|  39009447|2020| 01|        0|     0|        0|     0|       0|        0|           0|\n",
      "|     Asia|  Afghanistan|  39009447|2020| 02|        6|     0|        0|     6|       1|        0|           0|\n",
      "|     Asia|  Afghanistan|  39009447|2020| 03|     1219|    29|       26|  1164|     173|        4|           5|\n",
      "|     Asia|  Afghanistan|  39009447|2020| 04|    27237|   860|     2927| 23450|    1997|       60|         255|\n",
      "|     Asia|  Afghanistan|  39009447|2020| 05|   225655|  4994|    24129|196532|   13034|      193|        1068|\n",
      "+---------+-------------+----------+----+---+---------+------+---------+------+--------+---------+------------+\n",
      "only showing top 5 rows\n",
      "\n"
     ]
    }
   ],
   "source": [
    "# Calcular Agrupamiento de casos por mes\n",
    "df_result_calcular_casos=businesslogic.calcular_casos_por_mes(df_result_ordenado)\n",
    "df_result_calcular_casos.show(5)"
   ]
  }
 ],
 "metadata": {
  "kernelspec": {
   "display_name": "Python 3 (ipykernel)",
   "language": "python",
   "name": "python3"
  },
  "language_info": {
   "codemirror_mode": {
    "name": "ipython",
    "version": 3
   },
   "file_extension": ".py",
   "mimetype": "text/x-python",
   "name": "python",
   "nbconvert_exporter": "python",
   "pygments_lexer": "ipython3",
   "version": "3.9.7"
  }
 },
 "nbformat": 4,
 "nbformat_minor": 5
}
